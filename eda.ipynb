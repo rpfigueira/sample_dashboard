{
 "cells": [
  {
   "cell_type": "markdown",
   "id": "d1ea4dbd",
   "metadata": {},
   "source": [
    "# Dashboard components\n",
    "\n",
    "This notebook tests the logic components of the dashboard, to be composed in the app."
   ]
  },
  {
   "cell_type": "code",
   "execution_count": 5,
   "id": "9570313e",
   "metadata": {},
   "outputs": [],
   "source": [
    "import pandas as pd\n",
    "\n",
    "df = pd.read_csv('data/portugal_municipalities.csv')"
   ]
  },
  {
   "cell_type": "code",
   "execution_count": 8,
   "id": "c5e08721",
   "metadata": {},
   "outputs": [
    {
     "data": {
      "text/html": [
       "<div>\n",
       "<style scoped>\n",
       "    .dataframe tbody tr th:only-of-type {\n",
       "        vertical-align: middle;\n",
       "    }\n",
       "\n",
       "    .dataframe tbody tr th {\n",
       "        vertical-align: top;\n",
       "    }\n",
       "\n",
       "    .dataframe thead th {\n",
       "        text-align: right;\n",
       "    }\n",
       "</style>\n",
       "<table border=\"1\" class=\"dataframe\">\n",
       "  <thead>\n",
       "    <tr style=\"text-align: right;\">\n",
       "      <th></th>\n",
       "      <th>district</th>\n",
       "      <th>municipality</th>\n",
       "      <th>municipality_id</th>\n",
       "      <th>year</th>\n",
       "      <th>region_type</th>\n",
       "      <th>construction_type</th>\n",
       "      <th>dweling_type</th>\n",
       "      <th>value_construction_type</th>\n",
       "      <th>type</th>\n",
       "      <th>value_dwelling_type</th>\n",
       "    </tr>\n",
       "  </thead>\n",
       "  <tbody>\n",
       "    <tr>\n",
       "      <th>201204</th>\n",
       "      <td>Évora</td>\n",
       "      <td>Évora</td>\n",
       "      <td>Q179948</td>\n",
       "      <td>2023.0</td>\n",
       "      <td>Município</td>\n",
       "      <td>Total</td>\n",
       "      <td>Total</td>\n",
       "      <td>78.0</td>\n",
       "      <td>T0 ou T1</td>\n",
       "      <td>1.0</td>\n",
       "    </tr>\n",
       "    <tr>\n",
       "      <th>201205</th>\n",
       "      <td>Évora</td>\n",
       "      <td>Évora</td>\n",
       "      <td>Q179948</td>\n",
       "      <td>2023.0</td>\n",
       "      <td>Município</td>\n",
       "      <td>Total</td>\n",
       "      <td>Total</td>\n",
       "      <td>78.0</td>\n",
       "      <td>T2</td>\n",
       "      <td>7.0</td>\n",
       "    </tr>\n",
       "    <tr>\n",
       "      <th>201206</th>\n",
       "      <td>Évora</td>\n",
       "      <td>Évora</td>\n",
       "      <td>Q179948</td>\n",
       "      <td>2023.0</td>\n",
       "      <td>Município</td>\n",
       "      <td>Total</td>\n",
       "      <td>Total</td>\n",
       "      <td>78.0</td>\n",
       "      <td>T3</td>\n",
       "      <td>23.0</td>\n",
       "    </tr>\n",
       "    <tr>\n",
       "      <th>201207</th>\n",
       "      <td>Évora</td>\n",
       "      <td>Évora</td>\n",
       "      <td>Q179948</td>\n",
       "      <td>2023.0</td>\n",
       "      <td>Município</td>\n",
       "      <td>Total</td>\n",
       "      <td>Total</td>\n",
       "      <td>78.0</td>\n",
       "      <td>T4 ou mais</td>\n",
       "      <td>30.0</td>\n",
       "    </tr>\n",
       "    <tr>\n",
       "      <th>201208</th>\n",
       "      <td>Évora</td>\n",
       "      <td>Évora</td>\n",
       "      <td>Q179948</td>\n",
       "      <td>2023.0</td>\n",
       "      <td>Município</td>\n",
       "      <td>Total</td>\n",
       "      <td>Total</td>\n",
       "      <td>78.0</td>\n",
       "      <td>Total</td>\n",
       "      <td>61.0</td>\n",
       "    </tr>\n",
       "  </tbody>\n",
       "</table>\n",
       "</div>"
      ],
      "text/plain": [
       "       district municipality municipality_id    year region_type  \\\n",
       "201204    Évora        Évora         Q179948  2023.0   Município   \n",
       "201205    Évora        Évora         Q179948  2023.0   Município   \n",
       "201206    Évora        Évora         Q179948  2023.0   Município   \n",
       "201207    Évora        Évora         Q179948  2023.0   Município   \n",
       "201208    Évora        Évora         Q179948  2023.0   Município   \n",
       "\n",
       "       construction_type dweling_type  value_construction_type        type  \\\n",
       "201204             Total        Total                     78.0    T0 ou T1   \n",
       "201205             Total        Total                     78.0          T2   \n",
       "201206             Total        Total                     78.0          T3   \n",
       "201207             Total        Total                     78.0  T4 ou mais   \n",
       "201208             Total        Total                     78.0       Total   \n",
       "\n",
       "        value_dwelling_type  \n",
       "201204                  1.0  \n",
       "201205                  7.0  \n",
       "201206                 23.0  \n",
       "201207                 30.0  \n",
       "201208                 61.0  "
      ]
     },
     "execution_count": 8,
     "metadata": {},
     "output_type": "execute_result"
    }
   ],
   "source": [
    "df.tail()"
   ]
  },
  {
   "cell_type": "code",
   "execution_count": null,
   "id": "bf7591a3",
   "metadata": {},
   "outputs": [
    {
     "data": {
      "text/plain": [
       "year\n",
       "1995.0         0.0\n",
       "1996.0         0.0\n",
       "1997.0         0.0\n",
       "1998.0         0.0\n",
       "1999.0         0.0\n",
       "2000.0         0.0\n",
       "2001.0         0.0\n",
       "2002.0         0.0\n",
       "2003.0         0.0\n",
       "2004.0         0.0\n",
       "2005.0         0.0\n",
       "2006.0         0.0\n",
       "2007.0         0.0\n",
       "2008.0         0.0\n",
       "2009.0         0.0\n",
       "2010.0         0.0\n",
       "2011.0    148020.0\n",
       "2012.0    109926.0\n",
       "2013.0     70356.0\n",
       "2014.0     46920.0\n",
       "2015.0     40050.0\n",
       "2016.0     44964.0\n",
       "2017.0     46632.0\n",
       "2018.0     60870.0\n",
       "2019.0     73158.0\n",
       "2020.0     96180.0\n",
       "2021.0    107970.0\n",
       "2022.0    116232.0\n",
       "2023.0    130788.0\n",
       "Name: value_dwelling_type, dtype: float64"
      ]
     },
     "execution_count": 7,
     "metadata": {},
     "output_type": "execute_result"
    }
   ],
   "source": [
    "df[df['dwelling_type'] == 'Total'].groupby('year')['value_dwelling_type'].sum()"
   ]
  }
 ],
 "metadata": {
  "kernelspec": {
   "display_name": "venv",
   "language": "python",
   "name": "python3"
  },
  "language_info": {
   "codemirror_mode": {
    "name": "ipython",
    "version": 3
   },
   "file_extension": ".py",
   "mimetype": "text/x-python",
   "name": "python",
   "nbconvert_exporter": "python",
   "pygments_lexer": "ipython3",
   "version": "3.13.4"
  }
 },
 "nbformat": 4,
 "nbformat_minor": 5
}
